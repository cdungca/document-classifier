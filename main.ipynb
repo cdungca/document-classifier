{
 "cells": [
  {
   "cell_type": "code",
   "execution_count": 158,
   "metadata": {},
   "outputs": [
    {
     "name": "stderr",
     "output_type": "stream",
     "text": [
      "[nltk_data] Downloading package wordnet to\n",
      "[nltk_data]     C:\\Users\\CDUNGCA\\AppData\\Roaming\\nltk_data...\n",
      "[nltk_data]   Package wordnet is already up-to-date!\n",
      "[nltk_data] Downloading package punkt to\n",
      "[nltk_data]     C:\\Users\\CDUNGCA\\AppData\\Roaming\\nltk_data...\n",
      "[nltk_data]   Package punkt is already up-to-date!\n",
      "[nltk_data] Downloading package punkt_tab to\n",
      "[nltk_data]     C:\\Users\\CDUNGCA\\AppData\\Roaming\\nltk_data...\n",
      "[nltk_data]   Package punkt_tab is already up-to-date!\n",
      "[nltk_data] Downloading package stopwords to\n",
      "[nltk_data]     C:\\Users\\CDUNGCA\\AppData\\Roaming\\nltk_data...\n",
      "[nltk_data]   Package stopwords is already up-to-date!\n",
      "[nltk_data] Downloading package averaged_perceptron_tagger_eng to\n",
      "[nltk_data]     C:\\Users\\CDUNGCA\\AppData\\Roaming\\nltk_data...\n",
      "[nltk_data]   Package averaged_perceptron_tagger_eng is already up-to-\n",
      "[nltk_data]       date!\n"
     ]
    },
    {
     "data": {
      "text/plain": [
       "True"
      ]
     },
     "execution_count": 158,
     "metadata": {},
     "output_type": "execute_result"
    }
   ],
   "source": [
    "import warnings\n",
    "import pandas as pd\n",
    "import numpy as np\n",
    "import matplotlib.pyplot as plt\n",
    "from sklearn.preprocessing import LabelEncoder\n",
    "from sklearn.feature_extraction.text import TfidfVectorizer\n",
    "from sklearn import model_selection, naive_bayes, svm\n",
    "from sklearn.metrics import accuracy_score, classification_report\n",
    "from sklearn.linear_model import LogisticRegression\n",
    "from sklearn.naive_bayes import MultinomialNB\n",
    "from sklearn.svm import SVC\n",
    "from sklearn.feature_extraction.text import CountVectorizer, TfidfVectorizer\n",
    "from sklearn.pipeline import Pipeline\n",
    "from sklearn.model_selection import train_test_split, GridSearchCV\n",
    "from collections import defaultdict\n",
    "import nltk\n",
    "from nltk import word_tokenize\n",
    "from nltk import pos_tag\n",
    "from nltk.corpus import stopwords\n",
    "from nltk.stem import WordNetLemmatizer\n",
    "from nltk.corpus import wordnet as wn\n",
    "nltk.download('wordnet')\n",
    "nltk.download('punkt')\n",
    "nltk.download('punkt_tab')\n",
    "nltk.download('stopwords')\n",
    "nltk.download('averaged_perceptron_tagger_eng')\n"
   ]
  },
  {
   "cell_type": "code",
   "execution_count": 159,
   "metadata": {},
   "outputs": [],
   "source": [
    "np.random.seed(500)"
   ]
  },
  {
   "cell_type": "code",
   "execution_count": 160,
   "metadata": {},
   "outputs": [],
   "source": [
    "# Load the data\n",
    "Corpus = pd.read_csv('data/data.csv')"
   ]
  },
  {
   "cell_type": "code",
   "execution_count": 161,
   "metadata": {},
   "outputs": [
    {
     "name": "stdout",
     "output_type": "stream",
     "text": [
      "<class 'pandas.core.frame.DataFrame'>\n",
      "RangeIndex: 194 entries, 0 to 193\n",
      "Data columns (total 2 columns):\n",
      " #   Column    Non-Null Count  Dtype \n",
      "---  ------    --------------  ----- \n",
      " 0   category  194 non-null    object\n",
      " 1   fulltext  189 non-null    object\n",
      "dtypes: object(2)\n",
      "memory usage: 3.2+ KB\n"
     ]
    }
   ],
   "source": [
    "Corpus.info()"
   ]
  },
  {
   "cell_type": "code",
   "execution_count": 162,
   "metadata": {},
   "outputs": [
    {
     "data": {
      "text/html": [
       "<div>\n",
       "<style scoped>\n",
       "    .dataframe tbody tr th:only-of-type {\n",
       "        vertical-align: middle;\n",
       "    }\n",
       "\n",
       "    .dataframe tbody tr th {\n",
       "        vertical-align: top;\n",
       "    }\n",
       "\n",
       "    .dataframe thead th {\n",
       "        text-align: right;\n",
       "    }\n",
       "</style>\n",
       "<table border=\"1\" class=\"dataframe\">\n",
       "  <thead>\n",
       "    <tr style=\"text-align: right;\">\n",
       "      <th></th>\n",
       "      <th>category</th>\n",
       "      <th>fulltext</th>\n",
       "    </tr>\n",
       "  </thead>\n",
       "  <tbody>\n",
       "    <tr>\n",
       "      <th>0</th>\n",
       "      <td>accountability</td>\n",
       "      <td>United Nations    A/60/846/Add.6       Gener...</td>\n",
       "    </tr>\n",
       "    <tr>\n",
       "      <th>1</th>\n",
       "      <td>accountability</td>\n",
       "      <td>United Nations    A/71/729      General Asse...</td>\n",
       "    </tr>\n",
       "    <tr>\n",
       "      <th>2</th>\n",
       "      <td>accountability</td>\n",
       "      <td>United Nations    A/72/492      General Asse...</td>\n",
       "    </tr>\n",
       "    <tr>\n",
       "      <th>3</th>\n",
       "      <td>accountability</td>\n",
       "      <td>United Nations    A/72/492/Add.2      Genera...</td>\n",
       "    </tr>\n",
       "    <tr>\n",
       "      <th>4</th>\n",
       "      <td>accountability</td>\n",
       "      <td>United Nations    A/73/688      General Asse...</td>\n",
       "    </tr>\n",
       "  </tbody>\n",
       "</table>\n",
       "</div>"
      ],
      "text/plain": [
       "         category                                           fulltext\n",
       "0  accountability    United Nations    A/60/846/Add.6       Gener...\n",
       "1  accountability    United Nations    A/71/729      General Asse...\n",
       "2  accountability    United Nations    A/72/492      General Asse...\n",
       "3  accountability    United Nations    A/72/492/Add.2      Genera...\n",
       "4  accountability    United Nations    A/73/688      General Asse..."
      ]
     },
     "execution_count": 162,
     "metadata": {},
     "output_type": "execute_result"
    }
   ],
   "source": [
    "Corpus.head()"
   ]
  },
  {
   "cell_type": "code",
   "execution_count": 163,
   "metadata": {},
   "outputs": [
    {
     "data": {
      "text/plain": [
       "category\n",
       "travel                  75\n",
       "human resources         66\n",
       "accountability          42\n",
       "health and wellbeing    11\n",
       "Name: count, dtype: int64"
      ]
     },
     "execution_count": 163,
     "metadata": {},
     "output_type": "execute_result"
    }
   ],
   "source": [
    "Corpus[\"category\"].value_counts()"
   ]
  },
  {
   "cell_type": "code",
   "execution_count": 164,
   "metadata": {},
   "outputs": [
    {
     "data": {
      "text/plain": [
       "category    0\n",
       "fulltext    5\n",
       "dtype: int64"
      ]
     },
     "execution_count": 164,
     "metadata": {},
     "output_type": "execute_result"
    }
   ],
   "source": [
    "Corpus.isnull().sum()"
   ]
  },
  {
   "cell_type": "code",
   "execution_count": 165,
   "metadata": {},
   "outputs": [
    {
     "data": {
      "image/png": "[encoded data removed]",
      "text/plain": [
       "<Figure size 640x480 with 1 Axes>"
      ]
     },
     "metadata": {},
     "output_type": "display_data"
    }
   ],
   "source": [
    "# category distribution\n",
    "Corpus['category'].value_counts().plot(kind='bar')\n",
    "plt.xlabel('Category')\n",
    "plt.ylabel('Count')\n",
    "plt.title('Category Distribution')\n",
    "plt.show()"
   ]
  },
  {
   "cell_type": "code",
   "execution_count": 166,
   "metadata": {},
   "outputs": [
    {
     "data": {
      "image/png": "[encoded data removed]",
      "text/plain": [
       "<Figure size 640x480 with 1 Axes>"
      ]
     },
     "metadata": {},
     "output_type": "display_data"
    }
   ],
   "source": [
    "# category distribution\n",
    "Corpus['category'].value_counts().plot(kind='bar')\n",
    "plt.xlabel('Category')\n",
    "plt.ylabel('Count')\n",
    "plt.title('Category Distribution')\n",
    "plt.show()\n"
   ]
  },
  {
   "cell_type": "markdown",
   "metadata": {},
   "source": [
    "### Data Pre-processing\n",
    "\n",
    "1. Remove rows with blank values\n",
    "2. Change all to lower case\n",
    "3. Tokenization\n",
    "4. Remove stop words\n",
    "5. Remove non-alpha text\n",
    "6. Word Lemmatization\n"
   ]
  },
  {
   "cell_type": "code",
   "execution_count": 167,
   "metadata": {},
   "outputs": [
    {
     "data": {
      "text/plain": [
       "category    0\n",
       "fulltext    5\n",
       "dtype: int64"
      ]
     },
     "execution_count": 167,
     "metadata": {},
     "output_type": "execute_result"
    }
   ],
   "source": [
    "Corpus.isnull().sum()"
   ]
  },
  {
   "cell_type": "code",
   "execution_count": 168,
   "metadata": {},
   "outputs": [
    {
     "data": {
      "text/html": [
       "<div>\n",
       "<style scoped>\n",
       "    .dataframe tbody tr th:only-of-type {\n",
       "        vertical-align: middle;\n",
       "    }\n",
       "\n",
       "    .dataframe tbody tr th {\n",
       "        vertical-align: top;\n",
       "    }\n",
       "\n",
       "    .dataframe thead th {\n",
       "        text-align: right;\n",
       "    }\n",
       "</style>\n",
       "<table border=\"1\" class=\"dataframe\">\n",
       "  <thead>\n",
       "    <tr style=\"text-align: right;\">\n",
       "      <th></th>\n",
       "      <th>category</th>\n",
       "      <th>fulltext</th>\n",
       "      <th>text_final</th>\n",
       "    </tr>\n",
       "  </thead>\n",
       "  <tbody>\n",
       "    <tr>\n",
       "      <th>0</th>\n",
       "      <td>accountability</td>\n",
       "      <td>[united, nations, a/60/846/add.6, general, ass...</td>\n",
       "      <td>['united', 'nation', 'general', 'assembly', 'd...</td>\n",
       "    </tr>\n",
       "    <tr>\n",
       "      <th>1</th>\n",
       "      <td>accountability</td>\n",
       "      <td>[united, nations, a/71/729, general, assembly,...</td>\n",
       "      <td>['united', 'nation', 'general', 'assembly', 'd...</td>\n",
       "    </tr>\n",
       "    <tr>\n",
       "      <th>2</th>\n",
       "      <td>accountability</td>\n",
       "      <td>[united, nations, a/72/492, general, assembly,...</td>\n",
       "      <td>['united', 'nation', 'general', 'assembly', 'd...</td>\n",
       "    </tr>\n",
       "    <tr>\n",
       "      <th>3</th>\n",
       "      <td>accountability</td>\n",
       "      <td>[united, nations, a/72/492/add.2, general, ass...</td>\n",
       "      <td>['united', 'nation', 'general', 'assembly', 'd...</td>\n",
       "    </tr>\n",
       "    <tr>\n",
       "      <th>4</th>\n",
       "      <td>accountability</td>\n",
       "      <td>[united, nations, a/73/688, general, assembly,...</td>\n",
       "      <td>['united', 'nation', 'general', 'assembly', 'd...</td>\n",
       "    </tr>\n",
       "  </tbody>\n",
       "</table>\n",
       "</div>"
      ],
      "text/plain": [
       "         category                                           fulltext  \\\n",
       "0  accountability  [united, nations, a/60/846/add.6, general, ass...   \n",
       "1  accountability  [united, nations, a/71/729, general, assembly,...   \n",
       "2  accountability  [united, nations, a/72/492, general, assembly,...   \n",
       "3  accountability  [united, nations, a/72/492/add.2, general, ass...   \n",
       "4  accountability  [united, nations, a/73/688, general, assembly,...   \n",
       "\n",
       "                                          text_final  \n",
       "0  ['united', 'nation', 'general', 'assembly', 'd...  \n",
       "1  ['united', 'nation', 'general', 'assembly', 'd...  \n",
       "2  ['united', 'nation', 'general', 'assembly', 'd...  \n",
       "3  ['united', 'nation', 'general', 'assembly', 'd...  \n",
       "4  ['united', 'nation', 'general', 'assembly', 'd...  "
      ]
     },
     "execution_count": 168,
     "metadata": {},
     "output_type": "execute_result"
    }
   ],
   "source": [
    "# Step 0: We only have 10 records with category health and wellbeing. We will remove these records since they are not enough to train the model.\n",
    "Corpus = Corpus[Corpus['category'] != 'health and wellbeing']\n",
    "# Step 1: Remove missing values\n",
    "Corpus['fulltext'].dropna(inplace=True)\n",
    "# Step 2: Change all the text to lower case\n",
    "Corpus['fulltext'] = [entry.lower() if isinstance(entry, str) else '' for entry in Corpus['fulltext']]\n",
    "# Step 3: Tokenization : In this each entry in the corpus will be broken into set of words\n",
    "Corpus['fulltext'] = [word_tokenize(entry) for entry in Corpus['fulltext']]\n",
    "# Step 4: Remove stop words, non-alphabet and perfom word lemmatization\n",
    "tag_map = defaultdict(lambda : wn.NOUN)\n",
    "tag_map['J'] = wn.ADJ\n",
    "tag_map['V'] = wn.VERB\n",
    "tag_map['R'] = wn.ADV\n",
    "for index,entry in enumerate(Corpus['fulltext']):\n",
    "    Final_words = []\n",
    "    word_Lemmatized = WordNetLemmatizer()\n",
    "    for word, tag in pos_tag(entry):\n",
    "        if word not in stopwords.words('english') and word.isalpha():\n",
    "            word_Final = word_Lemmatized.lemmatize(word,tag_map[tag[0]])\n",
    "            Final_words.append(word_Final)\n",
    "    Corpus.loc[index,'text_final'] = str(Final_words)\n",
    "    \n",
    "Corpus.head()"
   ]
  },
  {
   "cell_type": "code",
   "execution_count": 169,
   "metadata": {},
   "outputs": [
    {
     "data": {
      "text/plain": [
       "category      11\n",
       "fulltext      11\n",
       "text_final    11\n",
       "dtype: int64"
      ]
     },
     "execution_count": 169,
     "metadata": {},
     "output_type": "execute_result"
    }
   ],
   "source": [
    "Corpus.isnull().sum()"
   ]
  },
  {
   "cell_type": "code",
   "execution_count": 170,
   "metadata": {},
   "outputs": [],
   "source": [
    "# Remove rows with empty fields\n",
    "Corpus = Corpus.dropna()"
   ]
  },
  {
   "cell_type": "code",
   "execution_count": 171,
   "metadata": {},
   "outputs": [
    {
     "data": {
      "text/plain": [
       "category      0\n",
       "fulltext      0\n",
       "text_final    0\n",
       "dtype: int64"
      ]
     },
     "execution_count": 171,
     "metadata": {},
     "output_type": "execute_result"
    }
   ],
   "source": [
    "Corpus.isnull().sum()"
   ]
  },
  {
   "cell_type": "code",
   "execution_count": 172,
   "metadata": {},
   "outputs": [
    {
     "data": {
      "text/plain": [
       "category\n",
       "human resources    66\n",
       "travel             64\n",
       "accountability     42\n",
       "Name: count, dtype: int64"
      ]
     },
     "execution_count": 172,
     "metadata": {},
     "output_type": "execute_result"
    }
   ],
   "source": [
    "Corpus[\"category\"].value_counts()"
   ]
  },
  {
   "cell_type": "markdown",
   "metadata": {},
   "source": [
    "### Prepare Train and Test Data"
   ]
  },
  {
   "cell_type": "code",
   "execution_count": 173,
   "metadata": {},
   "outputs": [],
   "source": [
    "# Prepare test data\n",
    "X_train, X_test, y_train, y_test = train_test_split(Corpus['text_final'], Corpus['category'], test_size=0.3)"
   ]
  },
  {
   "cell_type": "code",
   "execution_count": 174,
   "metadata": {},
   "outputs": [
    {
     "data": {
      "text/plain": [
       "9      ['united', 'nation', 'secretariat', 'april', '...\n",
       "138    ['united', 'nation', 'secretariat', 'march', '...\n",
       "28     ['united', 'nation', 'secretariat', 'august', ...\n",
       "37     ['united', 'nation', 'secretariat', 'december'...\n",
       "1      ['united', 'nation', 'general', 'assembly', 'd...\n",
       "Name: text_final, dtype: object"
      ]
     },
     "execution_count": 174,
     "metadata": {},
     "output_type": "execute_result"
    }
   ],
   "source": [
    "X_train.head()"
   ]
  },
  {
   "cell_type": "code",
   "execution_count": 175,
   "metadata": {},
   "outputs": [
    {
     "data": {
      "text/plain": [
       "9      accountability\n",
       "138            travel\n",
       "28     accountability\n",
       "37     accountability\n",
       "1      accountability\n",
       "Name: category, dtype: object"
      ]
     },
     "execution_count": 175,
     "metadata": {},
     "output_type": "execute_result"
    }
   ],
   "source": [
    "y_train.head()"
   ]
  },
  {
   "cell_type": "markdown",
   "metadata": {},
   "source": [
    "### Encode category"
   ]
  },
  {
   "cell_type": "code",
   "execution_count": 176,
   "metadata": {},
   "outputs": [],
   "source": [
    "Encoder = LabelEncoder()\n",
    "y_train = Encoder.fit_transform(y_train)\n",
    "y_test = Encoder.fit_transform(y_test)"
   ]
  },
  {
   "cell_type": "code",
   "execution_count": 177,
   "metadata": {},
   "outputs": [
    {
     "data": {
      "text/plain": [
       "array([2, 0, 2, 1, 2, 1, 1, 2, 1, 1, 0, 2, 1, 2, 1, 0, 1, 2, 0, 2, 2, 0,\n",
       "       0, 2, 1, 1, 2, 2, 0, 0, 0, 1, 0, 2, 2, 1, 1, 2, 2, 2, 0, 1, 0, 1,\n",
       "       2, 1, 1, 2, 1, 1, 1, 2])"
      ]
     },
     "execution_count": 177,
     "metadata": {},
     "output_type": "execute_result"
    }
   ],
   "source": [
    "y_test"
   ]
  },
  {
   "cell_type": "code",
   "execution_count": 178,
   "metadata": {},
   "outputs": [],
   "source": [
    "list(Encoder.transform(['accountability', 'human resources', 'travel']))\n",
    "labels = [0, 1, 2]"
   ]
  },
  {
   "cell_type": "code",
   "execution_count": 179,
   "metadata": {},
   "outputs": [],
   "source": [
    "list(Encoder.classes_)\n",
    "target_names = ['accountability', 'human resources', 'travel']"
   ]
  },
  {
   "cell_type": "markdown",
   "metadata": {},
   "source": [
    "### Using CountVectorizer: default and using best parameter"
   ]
  },
  {
   "cell_type": "code",
   "execution_count": 180,
   "metadata": {},
   "outputs": [
    {
     "name": "stdout",
     "output_type": "stream",
     "text": [
      "{'cvect': CountVectorizer(), 'lgr': LogisticRegression(max_iter=10000)}\n",
      "CountVectorizer - Logistic Regression - Default - Accuracy: 55.77\n",
      "                 precision    recall  f1-score   support\n",
      "\n",
      " accountability       0.44      0.58      0.50        12\n",
      "human resources       0.52      0.55      0.54        20\n",
      "         travel       0.73      0.55      0.63        20\n",
      "\n",
      "       accuracy                           0.56        52\n",
      "      macro avg       0.56      0.56      0.56        52\n",
      "   weighted avg       0.58      0.56      0.56        52\n",
      "\n"
     ]
    }
   ],
   "source": [
    "# Use CountVectorizer - Logistic Regression - Default\n",
    "cvect_lgr_pipe = ''\n",
    "cvect_lgr_default_acc = ''\n",
    "   \n",
    "cvect_lgr_pipe = Pipeline([('cvect', CountVectorizer()),\n",
    "                       ('lgr', LogisticRegression(max_iter=10000))])\n",
    "cvect_lgr_pipe.fit(X_train, y_train)\n",
    "\n",
    "print(cvect_lgr_pipe.named_steps)\n",
    "\n",
    "cvect_lgr_default_acc = round((cvect_lgr_pipe.score(X_test, y_test)*100), ndigits=2)\n",
    "print(f'CountVectorizer - Logistic Regression - Default - Accuracy: {cvect_lgr_default_acc}')\n",
    "\n",
    "print(classification_report(y_test, cvect_lgr_pipe.predict(X_test), labels=labels, target_names=target_names))"
   ]
  },
  {
   "cell_type": "code",
   "execution_count": 181,
   "metadata": {},
   "outputs": [
    {
     "name": "stdout",
     "output_type": "stream",
     "text": [
      "{'cvect__max_features': 1000, 'lgr__C': 0.1}\n",
      "CountVectorizer - Logistic Regression - Best - Accuracy: 59.62\n",
      "                 precision    recall  f1-score   support\n",
      "\n",
      " accountability       0.50      0.67      0.57        12\n",
      "human resources       0.55      0.60      0.57        20\n",
      "         travel       0.79      0.55      0.65        20\n",
      "\n",
      "       accuracy                           0.60        52\n",
      "      macro avg       0.61      0.61      0.60        52\n",
      "   weighted avg       0.63      0.60      0.60        52\n",
      "\n"
     ]
    }
   ],
   "source": [
    "# Use CountVectorizer - Logistic Regression - Best\n",
    "lgr_params = {'cvect__max_features': [100, 500, 1000, 2000],\n",
    "         'lgr__C': [0.1, 1, 10, 100]}\n",
    "cvect_lgr_grid = ''\n",
    "cvect_lgr_best_acc = ''\n",
    "\n",
    "cvect_lgr_grid = GridSearchCV(cvect_lgr_pipe, param_grid=lgr_params)\n",
    "cvect_lgr_grid.fit(X_train, y_train)\n",
    "\n",
    "print(cvect_lgr_grid.best_params_)\n",
    "\n",
    "cvect_lgr_lgrbest_acc = round((cvect_lgr_grid.score(X_test, y_test)*100), ndigits=2)\n",
    "print(f'CountVectorizer - Logistic Regression - Best - Accuracy: {cvect_lgr_lgrbest_acc}')\n",
    "\n",
    "print(classification_report(y_test, cvect_lgr_grid.predict(X_test), labels=labels, target_names=target_names))"
   ]
  },
  {
   "cell_type": "code",
   "execution_count": 182,
   "metadata": {},
   "outputs": [
    {
     "name": "stdout",
     "output_type": "stream",
     "text": [
      "{'cvect': CountVectorizer(), 'bayes': MultinomialNB()}\n",
      "CountVectorizer - Naive Bayes - Default - Accuracy: 76.92\n",
      "                 precision    recall  f1-score   support\n",
      "\n",
      " accountability       0.67      0.83      0.74        12\n",
      "human resources       0.75      0.60      0.67        20\n",
      "         travel       0.86      0.90      0.88        20\n",
      "\n",
      "       accuracy                           0.77        52\n",
      "      macro avg       0.76      0.78      0.76        52\n",
      "   weighted avg       0.77      0.77      0.77        52\n",
      "\n"
     ]
    }
   ],
   "source": [
    "# Use CountVectorizer - Naive Bayes - Default\n",
    "cvect_nb_pipe = ''\n",
    "cvect_nb_default_acc = ''\n",
    "   \n",
    "cvect_nb_pipe = Pipeline([('cvect', CountVectorizer()),\n",
    "                       ('bayes', MultinomialNB())])\n",
    "cvect_nb_pipe.fit(X_train, y_train)\n",
    "\n",
    "print(cvect_nb_pipe.named_steps)\n",
    "\n",
    "cvect_nb_default_acc = round((cvect_nb_pipe.score(X_test, y_test)*100), ndigits=2)\n",
    "print(f'CountVectorizer - Naive Bayes - Default - Accuracy: {cvect_nb_default_acc}')\n",
    "\n",
    "print(classification_report(y_test, cvect_nb_pipe.predict(X_test), labels=labels, target_names=target_names))\n"
   ]
  },
  {
   "cell_type": "code",
   "execution_count": 183,
   "metadata": {},
   "outputs": [
    {
     "name": "stdout",
     "output_type": "stream",
     "text": [
      "{'bayes__alpha': 0.1, 'cvect__max_features': 2000}\n",
      "CountVectorizer - Naive Bayes - Best - Accuracy: 76.92\n",
      "                 precision    recall  f1-score   support\n",
      "\n",
      " accountability       0.67      0.83      0.74        12\n",
      "human resources       0.75      0.60      0.67        20\n",
      "         travel       0.86      0.90      0.88        20\n",
      "\n",
      "       accuracy                           0.77        52\n",
      "      macro avg       0.76      0.78      0.76        52\n",
      "   weighted avg       0.77      0.77      0.77        52\n",
      "\n"
     ]
    }
   ],
   "source": [
    "# Use CountVectorizer - Naive Bayes - Best\n",
    "nb_params = {'cvect__max_features': [100, 500, 1000, 2000],\n",
    "         'bayes__alpha': [0.1, 1, 10, 100]}\n",
    "\n",
    "cvect_nb_grid = ''\n",
    "cvect_nb_best_acc = ''\n",
    "\n",
    "cvect_nb_grid = GridSearchCV(cvect_nb_pipe, param_grid=nb_params)\n",
    "cvect_nb_grid.fit(X_train, y_train)\n",
    "\n",
    "print(cvect_nb_grid.best_params_)\n",
    "\n",
    "cvect_nb_best_acc = round((cvect_nb_grid.score(X_test, y_test)*100), ndigits=2)\n",
    "print(f'CountVectorizer - Naive Bayes - Best - Accuracy: {cvect_nb_best_acc}')\n",
    "\n",
    "print(classification_report(y_test, cvect_nb_grid.predict(X_test), labels=labels, target_names=target_names))"
   ]
  },
  {
   "cell_type": "code",
   "execution_count": 184,
   "metadata": {},
   "outputs": [
    {
     "name": "stdout",
     "output_type": "stream",
     "text": [
      "{'cvect': CountVectorizer(), 'svc': SVC(probability=True)}\n",
      "CountVectorizer - Support Vector Machine - Default - Accuracy: 50.0\n",
      "                 precision    recall  f1-score   support\n",
      "\n",
      " accountability       0.71      0.42      0.53        12\n",
      "human resources       0.43      0.90      0.58        20\n",
      "         travel       1.00      0.15      0.26        20\n",
      "\n",
      "       accuracy                           0.50        52\n",
      "      macro avg       0.71      0.49      0.46        52\n",
      "   weighted avg       0.71      0.50      0.45        52\n",
      "\n"
     ]
    }
   ],
   "source": [
    "# Use CountVectorizer - Support Vector Machine - Default\n",
    "cvect_svm_pipe = ''\n",
    "cvect_svm_default_acc = ''\n",
    "   \n",
    "cvect_svm_pipe = Pipeline([('cvect', CountVectorizer()),\n",
    "                       ('svc', SVC(probability=True))])\n",
    "cvect_svm_pipe.fit(X_train, y_train)\n",
    "\n",
    "print(cvect_svm_pipe.named_steps)\n",
    "\n",
    "cvect_svm_default_acc = round((cvect_svm_pipe.score(X_test, y_test)*100), ndigits=2)\n",
    "print(f'CountVectorizer - Support Vector Machine - Default - Accuracy: {cvect_svm_default_acc}')\n",
    "\n",
    "print(classification_report(y_test, cvect_svm_pipe.predict(X_test), labels=labels, target_names=target_names))\n"
   ]
  },
  {
   "cell_type": "code",
   "execution_count": 185,
   "metadata": {},
   "outputs": [
    {
     "name": "stdout",
     "output_type": "stream",
     "text": [
      "{'cvect__max_features': 2000, 'svc__C': 100}\n",
      "CountVectorizer - Support Vector Machine - Best - Accuracy: 69.23\n",
      "                 precision    recall  f1-score   support\n",
      "\n",
      " accountability       0.67      0.67      0.67        12\n",
      "human resources       0.57      0.80      0.67        20\n",
      "         travel       1.00      0.60      0.75        20\n",
      "\n",
      "       accuracy                           0.69        52\n",
      "      macro avg       0.75      0.69      0.69        52\n",
      "   weighted avg       0.76      0.69      0.70        52\n",
      "\n"
     ]
    }
   ],
   "source": [
    "# Use CountVectorizer - Support Vector Machine - Best\n",
    "svm_params = {'cvect__max_features': [100, 500, 1000, 2000],\n",
    "         'svc__C': [0.1, 1, 10, 100]}\n",
    "\n",
    "cvect_svm_grid = ''\n",
    "cvect_svm_best_acc = ''\n",
    "\n",
    "cvect_svm_grid = GridSearchCV(cvect_svm_pipe, param_grid=svm_params)\n",
    "cvect_svm_grid.fit(X_train, y_train)\n",
    "\n",
    "print(cvect_svm_grid.best_params_)\n",
    "\n",
    "cvect_svm_best_acc = round((cvect_svm_grid.score(X_test, y_test)*100), ndigits=2)\n",
    "print(f'CountVectorizer - Support Vector Machine - Best - Accuracy: {cvect_svm_best_acc}')\n",
    "\n",
    "print(classification_report(y_test, cvect_svm_grid.predict(X_test), labels=labels, target_names=target_names))"
   ]
  },
  {
   "cell_type": "markdown",
   "metadata": {},
   "source": [
    "### Using TfidfVectorizer"
   ]
  },
  {
   "cell_type": "code",
   "execution_count": 186,
   "metadata": {},
   "outputs": [
    {
     "name": "stdout",
     "output_type": "stream",
     "text": [
      "TfidVectorizer - Logistic Regression - Default - Accuracy: 75.0\n",
      "                 precision    recall  f1-score   support\n",
      "\n",
      " accountability       0.73      0.92      0.81        12\n",
      "human resources       0.68      0.65      0.67        20\n",
      "         travel       0.83      0.75      0.79        20\n",
      "\n",
      "       accuracy                           0.75        52\n",
      "      macro avg       0.75      0.77      0.76        52\n",
      "   weighted avg       0.75      0.75      0.75        52\n",
      "\n"
     ]
    }
   ],
   "source": [
    "# Use TfidVectorizer - Logistic Regression - Default\n",
    "tvect_lgr_pipe = ''\n",
    "tvect_lgr_default_acc = ''\n",
    "   \n",
    "tvect_lgr_pipe = Pipeline([('tvect', TfidfVectorizer()),\n",
    "                       ('lgr', LogisticRegression(max_iter=10000))])\n",
    "tvect_lgr_pipe.fit(X_train, y_train)\n",
    "\n",
    "tvect_lgr_pipe.named_steps\n",
    "\n",
    "tvect_lgr_default_acc = round((tvect_lgr_pipe.score(X_test, y_test)*100), ndigits=2)\n",
    "print(f'TfidVectorizer - Logistic Regression - Default - Accuracy: {tvect_lgr_default_acc}')\n",
    "\n",
    "print(classification_report(y_test, tvect_lgr_pipe.predict(X_test), labels=labels, target_names=target_names))\n"
   ]
  },
  {
   "cell_type": "code",
   "execution_count": 187,
   "metadata": {},
   "outputs": [
    {
     "name": "stdout",
     "output_type": "stream",
     "text": [
      "{'lgr__C': 100, 'tvect__max_features': 1000}\n",
      "CountVectorizer - Logistic Regression - Best - Accuracy: 71.15\n",
      "                 precision    recall  f1-score   support\n",
      "\n",
      " accountability       0.59      0.83      0.69        12\n",
      "human resources       0.65      0.65      0.65        20\n",
      "         travel       0.93      0.70      0.80        20\n",
      "\n",
      "       accuracy                           0.71        52\n",
      "      macro avg       0.72      0.73      0.71        52\n",
      "   weighted avg       0.74      0.71      0.72        52\n",
      "\n"
     ]
    }
   ],
   "source": [
    "# Use TfidVectorizer - Logistic Regression - Best\n",
    "lgr_params = {'tvect__max_features': [100, 500, 1000, 2000],\n",
    "         'lgr__C': [0.1, 1, 10, 100]}\n",
    "tvect_lgr_grid = ''\n",
    "tvect_lgr_best_acc = ''\n",
    "\n",
    "tvect_lgr_grid = GridSearchCV(tvect_lgr_pipe, param_grid=lgr_params)\n",
    "tvect_lgr_grid.fit(X_train, y_train)\n",
    "\n",
    "print(tvect_lgr_grid.best_params_)\n",
    "\n",
    "tvect_lgr_lgrbest_acc = round((tvect_lgr_grid.score(X_test, y_test)*100), ndigits=2)\n",
    "print(f'CountVectorizer - Logistic Regression - Best - Accuracy: {tvect_lgr_lgrbest_acc}')\n",
    "\n",
    "print(classification_report(y_test, tvect_lgr_grid.predict(X_test), labels=labels, target_names=target_names))"
   ]
  },
  {
   "cell_type": "markdown",
   "metadata": {},
   "source": [
    "#### NB"
   ]
  },
  {
   "cell_type": "code",
   "execution_count": 188,
   "metadata": {},
   "outputs": [
    {
     "name": "stdout",
     "output_type": "stream",
     "text": [
      "{'tvect': TfidfVectorizer(), 'bayes': MultinomialNB()}\n",
      "TfidVectorizer - Naive Bayes - Default - Accuracy: 80.77\n",
      "                 precision    recall  f1-score   support\n",
      "\n",
      " accountability       0.77      0.83      0.80        12\n",
      "human resources       0.75      0.75      0.75        20\n",
      "         travel       0.89      0.85      0.87        20\n",
      "\n",
      "       accuracy                           0.81        52\n",
      "      macro avg       0.80      0.81      0.81        52\n",
      "   weighted avg       0.81      0.81      0.81        52\n",
      "\n"
     ]
    }
   ],
   "source": [
    "# Use TfidVectorizer - Naive Bayes - Default\n",
    "tvect_nb_pipe = ''\n",
    "tvect_nb_default_acc = ''\n",
    "   \n",
    "tvect_nb_pipe = Pipeline([('tvect', TfidfVectorizer()),\n",
    "                       ('bayes', MultinomialNB())])\n",
    "tvect_nb_pipe.fit(X_train, y_train)\n",
    "\n",
    "print(tvect_nb_pipe.named_steps)\n",
    "\n",
    "tvect_nb_default_acc = round((tvect_nb_pipe.score(X_test, y_test)*100), ndigits=2)\n",
    "print(f'TfidVectorizer - Naive Bayes - Default - Accuracy: {tvect_nb_default_acc}')\n",
    "\n",
    "print(classification_report(y_test, tvect_nb_pipe.predict(X_test), labels=labels, target_names=target_names))"
   ]
  },
  {
   "cell_type": "code",
   "execution_count": 189,
   "metadata": {},
   "outputs": [
    {
     "name": "stdout",
     "output_type": "stream",
     "text": [
      "{'bayes__alpha': 0.1, 'tvect__max_features': 2000}\n",
      "TfidVectorizer - Naive Bayes - Best - Accuracy: 76.92\n",
      "                 precision    recall  f1-score   support\n",
      "\n",
      " accountability       0.71      1.00      0.83        12\n",
      "human resources       0.75      0.60      0.67        20\n",
      "         travel       0.84      0.80      0.82        20\n",
      "\n",
      "       accuracy                           0.77        52\n",
      "      macro avg       0.77      0.80      0.77        52\n",
      "   weighted avg       0.78      0.77      0.76        52\n",
      "\n"
     ]
    }
   ],
   "source": [
    "# Use TfidVectorizer - Naive Bayes - Best\n",
    "nb_params = {'tvect__max_features': [100, 500, 1000, 2000],\n",
    "         'bayes__alpha': [0.1, 1, 10, 100]}\n",
    "\n",
    "tvect_nb_grid = ''\n",
    "tvect_nb_best_acc = ''\n",
    "\n",
    "tvect_nb_grid = GridSearchCV(tvect_nb_pipe, param_grid=nb_params)\n",
    "tvect_nb_grid.fit(X_train, y_train)\n",
    "\n",
    "print(tvect_nb_grid.best_params_)\n",
    "\n",
    "tvect_nb_best_acc = round((tvect_nb_grid.score(X_test, y_test)*100), ndigits=2)\n",
    "print(f'TfidVectorizer - Naive Bayes - Best - Accuracy: {tvect_nb_best_acc}')\n",
    "\n",
    "print(classification_report(y_test, tvect_nb_grid.predict(X_test), labels=labels, target_names=target_names))\n"
   ]
  },
  {
   "cell_type": "code",
   "execution_count": 190,
   "metadata": {},
   "outputs": [
    {
     "name": "stdout",
     "output_type": "stream",
     "text": [
      "{'tvect': TfidfVectorizer(), 'svc': SVC(probability=True)}\n",
      "TfidVectorizer - SVM - Default Accuracy: 50.0\n",
      "                 precision    recall  f1-score   support\n",
      "\n",
      " accountability       0.62      0.83      0.71        12\n",
      "human resources       0.68      0.65      0.67        20\n",
      "         travel       0.88      0.75      0.81        20\n",
      "\n",
      "       accuracy                           0.73        52\n",
      "      macro avg       0.73      0.74      0.73        52\n",
      "   weighted avg       0.75      0.73      0.73        52\n",
      "\n"
     ]
    }
   ],
   "source": [
    "# Use TfidVectorizer - Support Vector Machine - Default\n",
    "tvect_svm_pipe = ''\n",
    "tvect_svm_default_acc = ''\n",
    "   \n",
    "tvect_svm_pipe = Pipeline([('tvect', TfidfVectorizer()),\n",
    "                       ('svc', SVC(probability=True))])\n",
    "tvect_svm_pipe.fit(X_train, y_train)\n",
    "\n",
    "print(tvect_svm_pipe.named_steps)\n",
    "\n",
    "tvect_svm_default_acc = round((tvect_svm_pipe.score(X_test, y_test)*100), ndigits=2)\n",
    "print(f'TfidVectorizer - SVM - Default Accuracy: {cvect_svm_default_acc}')\n",
    "\n",
    "print(classification_report(y_test, tvect_svm_pipe.predict(X_test), labels=labels, target_names=target_names))\n"
   ]
  },
  {
   "cell_type": "code",
   "execution_count": 191,
   "metadata": {},
   "outputs": [
    {
     "name": "stdout",
     "output_type": "stream",
     "text": [
      "{'svc__C': 10, 'tvect__max_features': 2000}\n",
      "TfidVectorizer - Support Vector Machine - Best - Accuracy: 76.92\n",
      "                 precision    recall  f1-score   support\n",
      "\n",
      " accountability       0.63      1.00      0.77        12\n",
      "human resources       0.76      0.65      0.70        20\n",
      "         travel       0.94      0.75      0.83        20\n",
      "\n",
      "       accuracy                           0.77        52\n",
      "      macro avg       0.78      0.80      0.77        52\n",
      "   weighted avg       0.80      0.77      0.77        52\n",
      "\n"
     ]
    }
   ],
   "source": [
    "# Use TfidVectorizer - Support Vector Machine - Best\n",
    "svm_params = {'tvect__max_features': [100, 500, 1000, 2000],\n",
    "         'svc__C': [0.1, 1, 10, 100]}\n",
    "\n",
    "tvect_svm_grid = ''\n",
    "tvect_svm_best_acc = ''\n",
    "\n",
    "tvect_svm_grid = GridSearchCV(tvect_svm_pipe, param_grid=svm_params)\n",
    "tvect_svm_grid.fit(X_train, y_train)\n",
    "\n",
    "print(tvect_svm_grid.best_params_)\n",
    "\n",
    "tvect_svm_best_acc = round((tvect_svm_grid.score(X_test, y_test)*100), ndigits=2)\n",
    "print(f'TfidVectorizer - Support Vector Machine - Best - Accuracy: {tvect_svm_best_acc}')\n",
    "\n",
    "print(classification_report(y_test, tvect_svm_grid.predict(X_test), labels=labels, target_names=target_names))"
   ]
  }
 ],
 "metadata": {
  "kernelspec": {
   "display_name": "ai-ml",
   "language": "python",
   "name": "python3"
  },
  "language_info": {
   "codemirror_mode": {
    "name": "ipython",
    "version": 3
   },
   "file_extension": ".py",
   "mimetype": "text/x-python",
   "name": "python",
   "nbconvert_exporter": "python",
   "pygments_lexer": "ipython3",
   "version": "3.12.4"
  }
 },
 "nbformat": 4,
 "nbformat_minor": 2
}
