{
 "cells": [
  {
   "cell_type": "code",
   "execution_count": 61,
   "metadata": {},
   "outputs": [
    {
     "name": "stderr",
     "output_type": "stream",
     "text": [
      "[nltk_data] Downloading package punkt_tab to\n",
      "[nltk_data]     C:\\Users\\CDUNGCA\\AppData\\Roaming\\nltk_data...\n",
      "[nltk_data]   Package punkt_tab is already up-to-date!\n"
     ]
    },
    {
     "data": {
      "text/plain": [
       "True"
      ]
     },
     "execution_count": 61,
     "metadata": {},
     "output_type": "execute_result"
    }
   ],
   "source": [
    "import warnings\n",
    "import pandas as pd\n",
    "import seaborn as sns\n",
    "import matplotlib.pyplot as plt\n",
    "import time\n",
    "import nltk\n",
    "from sklearn.compose import make_column_selector, make_column_transformer\n",
    "from sklearn.preprocessing import OneHotEncoder, StandardScaler, PolynomialFeatures\n",
    "from sklearn.linear_model import LogisticRegression\n",
    "from sklearn.feature_selection import SelectFromModel\n",
    "from sklearn.pipeline import Pipeline\n",
    "from sklearn.model_selection import train_test_split, GridSearchCV\n",
    "from sklearn.metrics import ConfusionMatrixDisplay, RocCurveDisplay\n",
    "from sklearn.metrics import confusion_matrix, roc_curve, auc\n",
    "from sklearn.neighbors import KNeighborsClassifier\n",
    "from sklearn.tree import DecisionTreeClassifier\n",
    "from sklearn.dummy import DummyClassifier\n",
    "from sklearn.svm import SVC\n",
    "from sklearn.metrics import auc as skl_auc\n",
    "from nltk import word_tokenize, sent_tokenize\n",
    "nltk.download('punkt_tab')"
   ]
  },
  {
   "cell_type": "code",
   "execution_count": 62,
   "metadata": {},
   "outputs": [],
   "source": [
    "# Load and show data/bank-additional-full.csv\n",
    "df = pd.read_csv('data/data2.csv')"
   ]
  },
  {
   "cell_type": "code",
   "execution_count": 63,
   "metadata": {},
   "outputs": [
    {
     "name": "stdout",
     "output_type": "stream",
     "text": [
      "<class 'pandas.core.frame.DataFrame'>\n",
      "RangeIndex: 516 entries, 0 to 515\n",
      "Data columns (total 2 columns):\n",
      " #   Column    Non-Null Count  Dtype \n",
      "---  ------    --------------  ----- \n",
      " 0   category  516 non-null    object\n",
      " 1   fulltext  445 non-null    object\n",
      "dtypes: object(2)\n",
      "memory usage: 8.2+ KB\n"
     ]
    }
   ],
   "source": [
    "df.info()"
   ]
  },
  {
   "cell_type": "code",
   "execution_count": 64,
   "metadata": {},
   "outputs": [
    {
     "data": {
      "text/html": [
       "<div>\n",
       "<style scoped>\n",
       "    .dataframe tbody tr th:only-of-type {\n",
       "        vertical-align: middle;\n",
       "    }\n",
       "\n",
       "    .dataframe tbody tr th {\n",
       "        vertical-align: top;\n",
       "    }\n",
       "\n",
       "    .dataframe thead th {\n",
       "        text-align: right;\n",
       "    }\n",
       "</style>\n",
       "<table border=\"1\" class=\"dataframe\">\n",
       "  <thead>\n",
       "    <tr style=\"text-align: right;\">\n",
       "      <th></th>\n",
       "      <th>category</th>\n",
       "      <th>fulltext</th>\n",
       "    </tr>\n",
       "  </thead>\n",
       "  <tbody>\n",
       "    <tr>\n",
       "      <th>0</th>\n",
       "      <td>accountability</td>\n",
       "      <td>A/RES/64/259 \\n5 \\n \\n26. Stresses the need to...</td>\n",
       "    </tr>\n",
       "    <tr>\n",
       "      <th>1</th>\n",
       "      <td>accountability</td>\n",
       "      <td>\\nA/64/640\\n \\n65 \\n10-22371 \\n \\n \\n \\nAsses...</td>\n",
       "    </tr>\n",
       "    <tr>\n",
       "      <th>2</th>\n",
       "      <td>accountability</td>\n",
       "      <td>A/75/804 \\n \\n \\n21-03167 \\n8/8 \\n \\nSeptember...</td>\n",
       "    </tr>\n",
       "    <tr>\n",
       "      <th>3</th>\n",
       "      <td>accountability</td>\n",
       "      <td>A/72/773 \\n \\n \\n18-03255 \\n42/42 \\n \\n \\n \\nA...</td>\n",
       "    </tr>\n",
       "    <tr>\n",
       "      <th>4</th>\n",
       "      <td>accountability</td>\n",
       "      <td>A/RES/61/275 \\n6 \\n \\n(c) \\nAn understanding o...</td>\n",
       "    </tr>\n",
       "  </tbody>\n",
       "</table>\n",
       "</div>"
      ],
      "text/plain": [
       "         category                                           fulltext\n",
       "0  accountability  A/RES/64/259 \\n5 \\n \\n26. Stresses the need to...\n",
       "1  accountability   \\nA/64/640\\n \\n65 \\n10-22371 \\n \\n \\n \\nAsses...\n",
       "2  accountability  A/75/804 \\n \\n \\n21-03167 \\n8/8 \\n \\nSeptember...\n",
       "3  accountability  A/72/773 \\n \\n \\n18-03255 \\n42/42 \\n \\n \\n \\nA...\n",
       "4  accountability  A/RES/61/275 \\n6 \\n \\n(c) \\nAn understanding o..."
      ]
     },
     "execution_count": 64,
     "metadata": {},
     "output_type": "execute_result"
    }
   ],
   "source": [
    "df.head()"
   ]
  },
  {
   "cell_type": "code",
   "execution_count": 65,
   "metadata": {},
   "outputs": [
    {
     "data": {
      "text/plain": [
       "category\n",
       "human resources               453\n",
       "accountability                 46\n",
       "finance and budget             12\n",
       "health and wellbeing            3\n",
       "information and technology      2\n",
       "Name: count, dtype: int64"
      ]
     },
     "execution_count": 65,
     "metadata": {},
     "output_type": "execute_result"
    }
   ],
   "source": [
    "df[\"category\"].value_counts()"
   ]
  },
  {
   "cell_type": "code",
   "execution_count": 66,
   "metadata": {},
   "outputs": [
    {
     "data": {
      "text/plain": [
       "category     0\n",
       "fulltext    71\n",
       "dtype: int64"
      ]
     },
     "execution_count": 66,
     "metadata": {},
     "output_type": "execute_result"
    }
   ],
   "source": [
    "df.isnull().sum()"
   ]
  },
  {
   "cell_type": "code",
   "execution_count": 69,
   "metadata": {},
   "outputs": [],
   "source": [
    "# drop rows with missing values\n",
    "df = df.dropna()\n"
   ]
  },
  {
   "cell_type": "code",
   "execution_count": 70,
   "metadata": {},
   "outputs": [
    {
     "data": {
      "text/plain": [
       "category\n",
       "human resources               391\n",
       "accountability                 43\n",
       "finance and budget              7\n",
       "health and wellbeing            3\n",
       "information and technology      1\n",
       "Name: count, dtype: int64"
      ]
     },
     "execution_count": 70,
     "metadata": {},
     "output_type": "execute_result"
    }
   ],
   "source": [
    "df[\"category\"].value_counts()"
   ]
  },
  {
   "cell_type": "code",
   "execution_count": 71,
   "metadata": {},
   "outputs": [],
   "source": [
    "sampletext = df[\"fulltext\"].iloc[0]\n"
   ]
  },
  {
   "cell_type": "code",
   "execution_count": 72,
   "metadata": {},
   "outputs": [
    {
     "name": "stdout",
     "output_type": "stream",
     "text": [
      "<class 'list'>\n",
      "['A/RES/64/259', '\\\\n5', '\\\\n', '\\\\n26', '.', 'Stresses', 'the', 'need', 'to', 'focus', 'on', 'attaining', 'results', 'within', 'approved', 'mandates', ',', '\\\\nwhich', 'is', 'ultimately', 'the', 'responsibility', 'of', 'the', 'Secretary-General', ';', '\\\\n', '\\\\n27', '.', 'Reaffirms', 'its', 'commitment', 'to', 'improving', 'the', 'effectiveness', 'of', 'the', '\\\\noperational', 'capacity', 'of', 'the', 'Secretariat', 'by', 'the', 'use', 'of', 'results-based', 'management', ';', '\\\\n', '\\\\nI', '.', '\\\\nResults-based', 'management', 'information', 'system', '\\\\n', '\\\\n28', '.', 'Requests', 'the', 'Secretary-General', 'to', 'include', 'in', 'his', 'report', 'referred', 'to', 'in', '\\\\nparagraph', '33', 'below', 'the', 'results', 'of', 'his', 'consultations', 'to', 'be', 'undertaken', 'with', 'other', '\\\\nentities', 'that', 'have', 'implemented', 'the', 'enterprise', 'resource', 'planning', 'systems', 'to', 'derive', '\\\\nlessons', 'learned', 'regarding', 'the', 'contribution', 'made', 'by', 'such', 'systems', 'to', 'strengthening', '\\\\naccountability', ',', 'and', 'concrete', 'measures', 'to', 'strengthen', 'managerial', 'commitment', 'in', 'this', '\\\\nregard', 'for', 'the', 'better', 'utilization', 'of', 'the', 'system', ';', '\\\\n', '\\\\n29', '.', 'Also', 'requests', 'the', 'Secretary-General', 'to', 'include', 'in', 'his', 'report', 'referred', 'to', 'in', '\\\\nparagraph', '33', 'below', 'concrete', 'measures', 'taken', 'to', 'ensure', 'managerial', 'commitment', 'to', '\\\\nutilize', 'the', 'full', 'potential', 'of', 'the', 'enterprise', 'resource', 'planning', 'project', 'in', 'all', 'aspects', 'of', '\\\\nthe', 'performance', 'of', 'the', 'Organization', ',', 'including', 'strengthening', 'individual', 'and', '\\\\ninstitutional', 'accountability', ';', '\\\\n', '\\\\nJ', '.', '\\\\nEnterprise', 'risk', 'management', 'and', 'internal', 'control', 'framework', '\\\\n', '\\\\n30', '.', 'Emphasizes', 'that', 'the', 'risk', 'management', 'should', 'be', 'dynamic', ',', 'that', 'it', 'is', 'the', '\\\\ninherent', 'responsibility', 'of', 'staff', 'at', 'all', 'levels', 'in', 'the', 'Secretariat', ',', 'and', 'that', 'each', '\\\\ndepartment', 'is', 'accountable', 'for', 'the', 'risk', 'assessment', 'in', 'the', 'delivery', 'of', 'its', 'respective', '\\\\nmandate', ';', '\\\\n', '\\\\n31', '.', 'Regrets', 'the', 'absence', 'of', 'an', 'effective', 'and', 'integrated', 'internal', 'control', '\\\\nframework', ',', 'which', 'is', 'a', 'serious', 'gap', 'in', 'the', 'existing', 'accountability', 'system', ',', 'and', '\\\\nrequests', 'the', 'Secretary-General', 'to', 'work', 'on', 'enhancing', 'the', 'current', 'capabilities', 'in', 'the', '\\\\nSecretariat', 'responsible', 'for', 'risk', 'assessment', 'and', 'mitigation', 'and', 'internal', 'control', ',', 'on', '\\\\nthe', 'basis', 'of', 'the', 'recommendations', 'in', 'paragraphs', '49', 'and', '50', 'of', 'the', 'report', 'of', 'the', '\\\\nAdvisory', 'Committee', 'on', 'Administrative', 'and', 'Budgetary', 'Questions2', 'and', 'annex', 'II', 'to', '\\\\nthe', 'report', 'of', 'the', 'Secretary-General', ';', '1', '\\\\n', '\\\\nK', '.', '\\\\nHow', 'the', 'current', 'and', 'proposed', 'accountability', 'mechanisms', 'in', 'the', 'Secretariat', '\\\\nwould', 'have', 'addressed', 'the', 'flaws', 'in', 'the', 'management', 'of', 'the', 'United', 'Nations', '\\\\noil-for-food', 'programme', '\\\\n', '\\\\n32', '.', 'Requests', 'the', 'Secretary-General', ',', 'building', 'on', 'lessons', 'learned', 'as', 'outlined', '\\\\nin', 'section', 'K', 'of', 'his', 'report,1', 'to', 'include', 'in', 'his', 'report', 'referred', 'to', 'in', 'paragraph', '33', 'below', '\\\\nconcrete', 'measures', 'to', 'prevent', 'potential', 'conflict', 'of', 'interest', 'in', 'the', 'current', 'process', '\\\\ngoverning', 'procurement', ',', 'and', 'measures', 'aimed', 'at', 'improving', 'recovery', 'actions', ';', '\\\\n', '\\\\nReporting', '\\\\n', '\\\\n33', '.', 'Requests', 'the', 'Secretary-General', 'to', 'report', 'to', 'the', 'General', 'Assembly', 'at', 'the', '\\\\nmain', 'part', 'of', 'its', 'sixty-sixth', 'session', 'on', 'the', 'implementation', 'of', 'the', 'present', 'resolution', '.', '\\\\n', '\\\\n81st', 'plenary', 'meeting', '\\\\n29', 'March', '2010', '\\\\n']\n"
     ]
    }
   ],
   "source": [
    "### GRADED\n",
    "ans1 = ''\n",
    "\n",
    "    \n",
    "### BEGIN SOLUTION\n",
    "ans1 = set(word_tokenize(sampletext))\n",
    "### END SOLUTION\n",
    "\n",
    "### ANSWER CHECK\n",
    "print(type(ans1))\n",
    "print(ans1)"
   ]
  },
  {
   "cell_type": "code",
   "execution_count": null,
   "metadata": {},
   "outputs": [],
   "source": []
  }
 ],
 "metadata": {
  "kernelspec": {
   "display_name": "ai-ml",
   "language": "python",
   "name": "python3"
  },
  "language_info": {
   "codemirror_mode": {
    "name": "ipython",
    "version": 3
   },
   "file_extension": ".py",
   "mimetype": "text/x-python",
   "name": "python",
   "nbconvert_exporter": "python",
   "pygments_lexer": "ipython3",
   "version": "3.12.4"
  }
 },
 "nbformat": 4,
 "nbformat_minor": 2
}
