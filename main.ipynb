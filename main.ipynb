{
 "cells": [
  {
   "cell_type": "code",
   "execution_count": 1,
   "metadata": {},
   "outputs": [
    {
     "name": "stderr",
     "output_type": "stream",
     "text": [
      "[nltk_data] Downloading package punkt_tab to\n",
      "[nltk_data]     /Users/christiandungca/nltk_data...\n",
      "[nltk_data]   Package punkt_tab is already up-to-date!\n"
     ]
    },
    {
     "data": {
      "text/plain": [
       "True"
      ]
     },
     "execution_count": 1,
     "metadata": {},
     "output_type": "execute_result"
    }
   ],
   "source": [
    "import warnings\n",
    "import pandas as pd\n",
    "import seaborn as sns\n",
    "import matplotlib.pyplot as plt\n",
    "import time\n",
    "import nltk\n",
    "from sklearn.compose import make_column_selector, make_column_transformer\n",
    "from sklearn.preprocessing import OneHotEncoder, StandardScaler, PolynomialFeatures\n",
    "from sklearn.linear_model import LogisticRegression\n",
    "from sklearn.feature_selection import SelectFromModel\n",
    "from sklearn.pipeline import Pipeline\n",
    "from sklearn.model_selection import train_test_split, GridSearchCV\n",
    "from sklearn.metrics import ConfusionMatrixDisplay, RocCurveDisplay\n",
    "from sklearn.metrics import confusion_matrix, roc_curve, auc\n",
    "from sklearn.neighbors import KNeighborsClassifier\n",
    "from sklearn.tree import DecisionTreeClassifier\n",
    "from sklearn.dummy import DummyClassifier\n",
    "from sklearn.svm import SVC\n",
    "from sklearn.metrics import auc as skl_auc\n",
    "from nltk import word_tokenize, sent_tokenize\n",
    "nltk.download('punkt_tab')"
   ]
  },
  {
   "cell_type": "code",
   "execution_count": 2,
   "metadata": {},
   "outputs": [],
   "source": [
    "# Load nlp data\n",
    "df = pd.read_csv('data/data.csv')"
   ]
  },
  {
   "cell_type": "code",
   "execution_count": 3,
   "metadata": {},
   "outputs": [
    {
     "name": "stdout",
     "output_type": "stream",
     "text": [
      "<class 'pandas.core.frame.DataFrame'>\n",
      "RangeIndex: 1 entries, 0 to 0\n",
      "Data columns (total 2 columns):\n",
      " #   Column    Non-Null Count  Dtype \n",
      "---  ------    --------------  ----- \n",
      " 0   category  1 non-null      object\n",
      " 1   fulltext  1 non-null      object\n",
      "dtypes: object(2)\n",
      "memory usage: 148.0+ bytes\n"
     ]
    }
   ],
   "source": [
    "df.info()"
   ]
  },
  {
   "cell_type": "code",
   "execution_count": 4,
   "metadata": {},
   "outputs": [
    {
     "data": {
      "text/html": [
       "<div>\n",
       "<style scoped>\n",
       "    .dataframe tbody tr th:only-of-type {\n",
       "        vertical-align: middle;\n",
       "    }\n",
       "\n",
       "    .dataframe tbody tr th {\n",
       "        vertical-align: top;\n",
       "    }\n",
       "\n",
       "    .dataframe thead th {\n",
       "        text-align: right;\n",
       "    }\n",
       "</style>\n",
       "<table border=\"1\" class=\"dataframe\">\n",
       "  <thead>\n",
       "    <tr style=\"text-align: right;\">\n",
       "      <th></th>\n",
       "      <th>category</th>\n",
       "      <th>fulltext</th>\n",
       "    </tr>\n",
       "  </thead>\n",
       "  <tbody>\n",
       "    <tr>\n",
       "      <th>0</th>\n",
       "      <td>accountability</td>\n",
       "      <td>United Nations  A/RES/64/259    General Asse...</td>\n",
       "    </tr>\n",
       "  </tbody>\n",
       "</table>\n",
       "</div>"
      ],
      "text/plain": [
       "         category                                           fulltext\n",
       "0  accountability    United Nations  A/RES/64/259    General Asse..."
      ]
     },
     "execution_count": 4,
     "metadata": {},
     "output_type": "execute_result"
    }
   ],
   "source": [
    "df.head()"
   ]
  },
  {
   "cell_type": "code",
   "execution_count": 5,
   "metadata": {},
   "outputs": [
    {
     "data": {
      "text/plain": [
       "category\n",
       "accountability    1\n",
       "Name: count, dtype: int64"
      ]
     },
     "execution_count": 5,
     "metadata": {},
     "output_type": "execute_result"
    }
   ],
   "source": [
    "df[\"category\"].value_counts()"
   ]
  },
  {
   "cell_type": "code",
   "execution_count": 6,
   "metadata": {},
   "outputs": [
    {
     "data": {
      "text/plain": [
       "category    0\n",
       "fulltext    0\n",
       "dtype: int64"
      ]
     },
     "execution_count": 6,
     "metadata": {},
     "output_type": "execute_result"
    }
   ],
   "source": [
    "df.isnull().sum()"
   ]
  },
  {
   "cell_type": "code",
   "execution_count": 7,
   "metadata": {},
   "outputs": [],
   "source": [
    "# drop rows with missing values\n",
    "df = df.dropna()\n"
   ]
  },
  {
   "cell_type": "code",
   "execution_count": 8,
   "metadata": {},
   "outputs": [
    {
     "data": {
      "text/plain": [
       "category\n",
       "accountability    1\n",
       "Name: count, dtype: int64"
      ]
     },
     "execution_count": 8,
     "metadata": {},
     "output_type": "execute_result"
    }
   ],
   "source": [
    "df[\"category\"].value_counts()"
   ]
  },
  {
   "cell_type": "code",
   "execution_count": 9,
   "metadata": {},
   "outputs": [],
   "source": [
    "sampletext = df[\"fulltext\"].iloc[0]\n"
   ]
  },
  {
   "cell_type": "code",
   "execution_count": 10,
   "metadata": {},
   "outputs": [
    {
     "name": "stdout",
     "output_type": "stream",
     "text": [
      "  United Nations  A/RES/64/259    General Assembly  Distr.: General  5 May 2010  Sixty-fourth session  Agenda item 130    09-47737  *0947737*  Please rec cle  Resolution adopted by the General Assembly on 29 March 2010  [on the report of the Fifth Committee (A/64/596/Add.1)]  64/259. Towards an accountability system in the United Nations  Secretariat        The General Assembly,     Recalling its resolutions 59/272 of 23 December 2004 and 60/254 of 8 May  2006, section I of its resolution 60/260 of 8 May 2006 and its resolutions 60/283 of  7 July 2006, 61/245 of 22 December 2006 and 63/276 of 7 April 2009,    Recalling also its resolutions 55/231 of 23 December 2000, 56/253 of  24 December 2001, 57/290 B of 18 June 2003 and 59/296 of 22 June 2005 and  paragraph 2 of its resolution 60/257 of 8 May 2006,    Reaffirming its commitment to strengthening accountability in the United  Nations Secretariat and the accountability of the Secretary-General for the  performance of the Secretariat to all Member States,    Stressing that accountability is a central pillar of effective and efficient  management that requires attention and strong commitment at the highest level of  the Secretariat,    Aware of the significant flaws in terms of internal monitoring, inspection and  accountability regarding, for example, the management of the United Nations oil- for-food programme,    Noting that since its sixtieth session, the General Assembly has included in its  agenda the item entitled \"Follow-up to the recommendations on administrative  management and internal oversight of the Independent Inquiry Committee into the  United Nations Oil-for-Food Programme\",    Noting also that the absence of a comprehensive accountability system at the  United Nations could lead to mismanagement, waste and risks in the Organization,    Recognizing and reaffirming the important role of the oversight bodies in the  development of an accountability system that is relevant to the United Nations,  A/RES/64/259  2    Having considered the report of the Secretary-General entitled \"Towards an  accountability system in the United Nations Secretariat\",0F1 the related report of the  Advisory Committee on Administrative and Budgetary Questions 1F2 and the report of  the Office of Internal Oversight Services on the review of the practice of the  Secretariat regarding the sharing of information contained in reports of consultants  on management-related issues, 2F3    1.  Takes note of the report of the Secretary-General;1    2.  Endorses the conclusions and recommendations contained in the report  of the Advisory Committee on Administrative and Budgetary Questions,2 subject to  the provisions of the present resolution;    3.  Reaffirms its role with regard to the structure of the Secretariat, and  stresses that proposals to amend the overall departmental structure, as well as the  format of the programme budget and the biennial programme plan, are subject to its  review and prior approval;    4.  Requests the Joint Inspection Unit to submit to the General Assembly, for  consideration at the main part of its sixty-seventh session, a comparative analysis  report on various accountability frameworks in the United Nations system;    5.  Reaffirms its commitment to strengthening accountability in the United  Nations Secretariat and the accountability of the Secretary-General to Member  States and the achievement of results, and urges the Secretary-General to further  strengthen consultation with the oversight bodies with a view to ensuring  accountability in the Secretariat;    6.  Stresses the importance of promoting a culture of accountability, results- based management, enterprise risk management and internal controls at all levels in  the Secretariat through the continued leadership and commitment of senior  managers, and requests the Secretary-General to take appropriate measures to this  end, including, inter alia, the training of relevant staff;    7.  Also stresses, as one of the essential components of accountability, the  importance of compliance with the Charter of the United Nations, its resolutions and  the regulations and rules;     A.  Definition of accountability and roles and responsibilities    8.  Decides that accountability shall be defined as follows:      Accountability is the obligation of the Secretariat and its staff members  to be answerable for all decisions made and actions taken by them, and to be  responsible for honouring their commitments, without qualification or  exception.      Accountability includes achieving objectives and high-quality results in a  timely and cost-effective manner, in fully implementing and delivering on all  mandates to the Secretariat approved by the United Nations intergovernmental  bodies and other subsidiary organs established by them in compliance with all  resolutions, regulations, rules and ethical standards; truthful, objective,  _______________  1 A/64/640.  2 A/64/683 and Corr.1.  3 A/64/587.  A/RES/64/259  3  accurate and timely reporting on performance results; responsible stewardship  of funds and resources; all aspects of performance, including a clearly defined  system of rewards and sanctions; and with due recognition to the important  role of the oversight bodies and in full compliance with accepted  recommendations.    9.  Requests the Secretary-General to continue to draw on lessons learned,  experience and expertise from the United Nations programmes and funds and other  United Nations entities when developing the accountability system of the United  Nations Secretariat;    B.  Performance reporting     10. Recalls paragraph 9 (b) of its resolution 63/276 and section II.B of the  report of the Advisory Committee on Administrative and Budgetary Questions,2 and  requests the Secretary-General, in future budget performance reports, to make  efforts to provide a greater degree of analysis of data on the utilization of resources  and to include subsequent trends over past budget periods in order to make the  performance reports a more useful accountability and monitoring tool for Member  States;    11. Also recalls paragraph 25 of the report of the Advisory Committee on  Administrative and Budgetary Questions,2 and requests the Secretary-General to  identify appropriate methods and tools to portray the efficiency with which the  Secretariat undertakes its work;    C.  Implementation of the recommendations of oversight bodies     12. Emphasizes the importance of the full and timely implementation of the  recommendations of oversight bodies, and stresses, in this regard, the role of the  Management  Committee  for  monitoring  and  ensuring  that  accepted  recommendations are followed up and implemented in a timely manner, and the  need for transparency in the work of the Committee;    D.  Personal and institutional accountability    13. Emphasizes the importance of establishing and fully implementing real,  effective and efficient mechanisms that foster institutional and personal  accountability at all levels;    14. Recalls section I, paragraph 4, of its resolution 63/250 of 24 December  2008, and requests the Secretary-General to analyse the impact of his proposed  human resources management reform measures on personal accountability;    15. Requests the Secretary-General to propose concrete and comprehensive  measures to strengthen personal accountability at all levels within the Secretariat,  based on the definition of accountability as outlined in paragraph 8 above; and its  link with institutional accountability towards Member States on results achieved and  resources used;    16. Also requests the Secretary-General to further improve the managers'  evaluation system, and to clearly identify the critical linkages between institutional  and personal accountability through the senior managers' compacts, and the  performance appraisal system of all staff below the level of Assistant Secretary- General, and to establish proper accountability mechanisms for under-performance  at all levels;  A/RES/64/259  4    17. Further requests the Secretary-General to further develop and take  appropriate measures to hold staff accountable for mismanagement and wrongful or  improper decisions and to strengthen efforts to increase recovery actions by those  convicted of fraud in the Organization;    18. Notes the measures taken by the Secretary-General to improve  assessment of each senior manager's performance, and requests the Secretary- General to ensure that the weaknesses identified by the Management Performance  Board are fully and appropriately addressed;    E.  Selection and appointment of senior managers    19. Recalls the conclusion of the Advisory Committee on Administrative and  Budgetary Questions in paragraph 28 of its report,2 and in this regard requests the  Joint Inspection Unit to submit a report on possible measures to further enhance  transparency in the selection and appointment process of senior managers at the  main part of its sixty-sixth session, to be considered in conjunction with the report  on the implementation of the present resolution referred to in paragraph 33 below;    F.  Reform of the performance appraisal system     20. Notes with concern the delay in the implementation of Inspira and its  impact on the ability of the Secretary-General to provide a comprehensive reform  effort regarding performance management, emphasizes the need for its timely  implementation, and further stresses that the value added by such systems is  dependent on its effective utilization by staff to achieve the intended results;    G.  Delegation of authority    21. Recalls paragraph 36 of the report of the Advisory Committee on  Administrative and Budgetary Questions,2 and requests the Secretary-General to  urgently address the continued deficiencies in the current delegation of authority  system through the promulgation of well-defined roles and responsibilities of  individuals at all levels to whom authority is delegated, the systemic reporting  mechanisms on monitoring and exercise of delegated authority and actions to be  taken in cases of mismanagement or abuse of authority;    H.  Implementation of the results-based management framework     22. Reaffirms paragraphs 7 to 9 of its resolution 55/231;    23. Requests the Secretary-General to take appropriate measures to  accelerate the implementation of results-based management, taking into account  paragraph 43 of the report of the Advisory Committee on Administrative and  Budgetary Questions;2    24. Stresses that results-based management will require the Organization to  create a sustained focus on results, and in this regard requests the Secretary-General  to take concrete measures to achieve a cultural change throughout the Organization;    25. Notes that the effective implementation of results-based management  requires the sustained and focused engagement by senior management, and in this  regard encourages the Secretary-General to assign the responsibility for the  successful implementation of results-based management methodology throughout  the Secretariat to a relevant member of his senior management team, and to  communicate this assigned responsibility to all stakeholders as a matter of priority;  A/RES/64/259  5    26. Stresses the need to focus on attaining results within approved mandates,  which is ultimately the responsibility of the Secretary-General;    27. Reaffirms its commitment to improving the effectiveness of the  operational capacity of the Secretariat by the use of results-based management;    I.  Results-based management information system     28. Requests the Secretary-General to include in his report referred to in  paragraph 33 below the results of his consultations to be undertaken with other  entities that have implemented the enterprise resource planning systems to derive  lessons learned regarding the contribution made by such systems to strengthening  accountability, and concrete measures to strengthen managerial commitment in this  regard for the better utilization of the system;    29. Also requests the Secretary-General to include in his report referred to in  paragraph 33 below concrete measures taken to ensure managerial commitment to  utilize the full potential of the enterprise resource planning project in all aspects of  the performance of the Organization, including strengthening individual and  institutional accountability;    J.  Enterprise risk management and internal control framework     30. Emphasizes that the risk management should be dynamic, that it is the  inherent responsibility of staff at all levels in the Secretariat, and that each  department is accountable for the risk assessment in the delivery of its respective  mandate;    31. Regrets the absence of an effective and integrated internal control  framework, which is a serious gap in the existing accountability system, and  requests the Secretary-General to work on enhancing the current capabilities in the  Secretariat responsible for risk assessment and mitigation and internal control, on  the basis of the recommendations in paragraphs 49 and 50 of the report of the  Advisory Committee on Administrative and Budgetary Questions2 and annex II to  the report of the Secretary-General;1    K.  How the current and proposed accountability mechanisms in the Secretariat  would have addressed the flaws in the management of the United Nations  oil-for-food programme    32. Requests the Secretary-General, building on lessons learned as outlined  in section K of his report,1 to include in his report referred to in paragraph 33 below  concrete measures to prevent potential conflict of interest in the current process  governing procurement, and measures aimed at improving recovery actions;    Reporting    33. Requests the Secretary-General to report to the General Assembly at the  main part of its sixty-sixth session on the implementation of the present resolution.    81st plenary meeting  29 March 2010  \n"
     ]
    }
   ],
   "source": [
    "print(sampletext)"
   ]
  },
  {
   "cell_type": "code",
   "execution_count": 11,
   "metadata": {},
   "outputs": [
    {
     "name": "stdout",
     "output_type": "stream",
     "text": [
      "<class 'set'>\n",
      "{'components', 'potential', 'linkages', 'report', 'improper', 'entities', 'an', 'defined', 'taken', 'Board', 'managerial', 'strengthen', 'G.', 'review', 'added', 'Delegation', 'Recalling', 'throughout', '``', 'analyse', 'stresses', 'serious', 'real', 'obligation', 'funds', 'main', 'item', 'establish', 'also', 'lessons', 'Implementation', 'consultants', 'April', '2003', '16', 'mitigation', 'taking', '43', 'system', 'sustained', 'past', 'recommendations', 'wrongful', 'appraisal', '_______________', 'tools', 'fully', 'delegated', 'Programme', 'format', 'Fifth', '25', 'essential', 'further', 'its', 'Unit', '18', 'importance', 'achieve', 'degree', 'on', 'approved', '28', 'Distr', 'focused', 'learned', '26', 'inspection', 'interest', 'convicted', 'definition', 'Recognizing', 'over', 'stewardship', '59/296', 'undertakes', 'compacts', \"'s\", 'Advisory', 'Endorses', 'measures', 'section', 'recalls', 'towards', 'II', 'all', 'sharing', 'efficient', 'could', '12', 'critical', 'rules', 'concern', 'Reaffirming', '09-47737', 'Secretary-General', 'oversight', 'create', 'improving', 'will', 'Oil-for-Food', 'E.', 'personal', 'training', '*', 'achieved', 'stakeholders', 'clearly', 'priority', 'How', 'effectiveness', 'sixty-seventh', 'various', 'internal', 'work', 'strengthening', '55/231', 'well-defined', 'General', 'proper', 'proposed', '27', 'identify', 'Having', 'Noting', 'example', 'systems', 'Towards', 'Inspection', 'leadership', 'engagement', \"''\", 'implemented', 'developing', 'comprehensive', 'derive', 'Independent', 'Office', 'individual', 'appointment', 'commitment', 'including', 'based', 'resolution', 'requires', '2004', '2005', 'role', 'each', 'results-', 'conflict', 'Sixty-fourth', 'encourages', 'compliance', 'responsibilities', 'from', 'reaffirming', 'accepted', ',0F1', 'Charter', 'them', 'aspects', 'development', 'Questions', ';', 'ensure', 'A', 'through', 'this', 'proposals', ':', '29', 'when', 'portray', 'without', 'submit', 'by', 'Oversight', 'overall', 'include', 'present', 'regarding', 'effort', 'relevant', 'possible', 'Aware', 'team', 'results-based', 'effective', 'May', 'recognition', 'II.B', 'hold', 'organs', 'F.', 'senior', 'monitoring', 'periods', 'considered', 'budget', 'C.', '.', 'in', 'improve', 'consultations', 'current', 'Committee', 'provide', 'Resolution', '63/250', 'alia', 'frameworks', 'conjunction', 'delivery', 'reporting', 'assign', 'Questions,2', 'commitments', '[', '130', 'building', 'attaining', 'plan', 'objective', 'administrative', 'shall', 'consideration', 'session', 'methods', 'performance', 'meeting', 'biennial', '50', 'aimed', 'that', 'project', 'central', 'whom', 'more', '3', 'standards', 'inter', 'Inspira', 'follows', 'Assistant', 'part', 'appropriately', 'framework', 'basis', 'strong', 'structure', 'Requests', 'promoting', 'greater', 'Secretariat', 'delegation', 'June', 'cases', 'intergovernmental', 'December', 'Administrative', 'data', 'end', 'appropriate', 'intended', 'Secretary-', 'mandates', 'selection', 'paragraph', 'Emphasizes', 'respective', 'their', 'Personal', '36', 'assessment', 'note', 'transparency', '6', 'contained', 'achievement', 'under-performance', 'United', 'sixty-sixth', 'accountable', 'amend', 'those', 'above', '5', 'I.', 'Accountability', 'delivering', 'experience', 'individuals', 'management-related', 'address', '31', 'urges', 'agenda', 'utilization', '2F3', 'foster', 'requests', 'A/RES/64/259', 'b', 'emphasizes', 'K', 'bodies', 'cultural', '23', 'subsidiary', 'one', 'expertise', 'since', 'Also', 'have', 'A/64/640', 'value', 'sanctions', 'waste', 'make', '2', 'responsible', 'existing', 'Services', '17', 'absence', 'Inquiry', 'department', 'report,2', 'The', 'exercise', 'rewards', 'controls', 'mechanisms', 'evaluation', 'communicate', 'are', 'information', '19', 'enhancing', 'paragraphs', 'Member', 'referred', 'into', 'cle', 'well', 'implementation', 'practice', 'operational', 'provisions', 'manager', 'A/64/596/Add.1', 'I', 'annex', 'between', '33', 'report,1', 'K.', 'fraud', '2008', 'truthful', 'programme', 'A/64/587', 'tool', 'made', 'propose', 'decisions', 'B', 'procurement', 'Joint', 'Notes', 'analysis', 'dependent', 'full', '22', 'culture', 'Performance', 'systemic', 'methodology', 'contribution', 'matter', 'at', 'Assembly', '64/259', 'subject', 'such', '30', 'delay', 'Internal', ']', 'up', ')', 'undertaken', 'established', 'Stressing', 'efficiency', 'Budgetary', '56/253', 'July', 'prior', 'subsequent', 'oil-for-food', '8', 'and', 'efforts', 'cost-effective', 'due', 'link', 'Agenda', 'management', '4', 'within', 'actions', 'important', 'concrete', 'be', 'establishing', 'qualification', 'manner', 'significant', 'order', 'levels', 'which', 'capabilities', ',', 'is', '59/272', 'human', '20', 'adopted', 'outlined', 'enhance', 'reform', 'future', 'for', 'attention', 'of', 'as', 'resolutions', 'Follow-up', '49', 'authority', 'regulations', '10', 'highest', 'accelerate', '63/276', 'responsibility', 'enterprise', 'focus', '1', 'inherent', 'lead', 'exception', 'with', '7', \"'\", 'view', 'recovery', 'deficiencies', 'integrated', 'States', 'process', 'or', '61/245', 'a', 'risk', '2009', 'achieving', 'continued', 'need', 'for-food', 'honouring', 'answerable', 'Recalls', 'Organization', 'utilize', '60/257', 'reports', '32', 'departmental', 'included', 'below', 'Results-based', 'followed', 'high-quality', 'mismanagement', 'ensuring', 'Reporting', 'terms', 'governing', '1F2', 'conclusion', '0947737', 'implementing', 'useful', '14', '(', 'pillar', '9', 'Stresses', 'successful', '13', 'roles', 'his', 'ultimately', 'oil-', 'use', 'rec', 'level', 'Further', '24', 'March', 'Nations', 'member', 'control', '2000', 'Please', 'Questions2', 'has', 'take', 'assigned', 'regard', 'would', 'risks', 'approval', 'better', 'trends', 'to', 'objectives', '11', 'sixtieth', 'institutional', 'should', 'Reaffirms', 'other', '57/290', 'staff', 'Corr.1', 'increase', 'mandate', 'gap', 'flaws', 'A/64/683', 'Management', 'related', 'ability', 'identified', 'used', 'the', 'Reform', 'promulgation', 'require', 'H.', 'urgently', 'abuse', 'prevent', 'plenary', 'timely', 'accurate', 'J', 'consultation', '60/260', '15', 'resource', 'ethical', 'develop', 'Decides', 'account', 'comparative', '2001', 'results', '21', 'impact', 'managers', 'Regrets', '2010', '2006', '81st', 'Enterprise', 'accountability', 'continue', 'Takes', '60/283', 'D.', 'Selection', 'Definition', 'addressed', 'members', 'change', 'entitled', 'resources', 'programmes', 'capacity', 'it', '60/254', 'conclusions', 'draw', 'includes', 'dynamic', 'issues', 'weaknesses', 'planning'}\n"
     ]
    }
   ],
   "source": [
    "ans1 = ''\n",
    "\n",
    "ans1 = set(word_tokenize(sampletext))\n",
    "\n",
    "print(type(ans1))\n",
    "print(ans1)"
   ]
  },
  {
   "cell_type": "code",
   "execution_count": null,
   "metadata": {},
   "outputs": [],
   "source": []
  }
 ],
 "metadata": {
  "kernelspec": {
   "display_name": "ai-ml",
   "language": "python",
   "name": "python3"
  },
  "language_info": {
   "codemirror_mode": {
    "name": "ipython",
    "version": 3
   },
   "file_extension": ".py",
   "mimetype": "text/x-python",
   "name": "python",
   "nbconvert_exporter": "python",
   "pygments_lexer": "ipython3",
   "version": "3.11.9"
  }
 },
 "nbformat": 4,
 "nbformat_minor": 2
}
